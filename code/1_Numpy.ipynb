{
  "nbformat": 4,
  "nbformat_minor": 0,
  "metadata": {
    "colab": {
      "name": "1_Numpy",
      "provenance": [],
      "collapsed_sections": []
    },
    "kernelspec": {
      "name": "python3",
      "display_name": "Python 3"
    }
  },
  "cells": [
    {
      "cell_type": "markdown",
      "metadata": {
        "id": "fOUqzVJ5gsCj"
      },
      "source": [
        "# Introducción a Numpy"
      ]
    },
    {
      "cell_type": "code",
      "metadata": {
        "id": "Fo9IsxmIghZ9"
      },
      "source": [
        "import numpy as np"
      ],
      "execution_count": 32,
      "outputs": []
    },
    {
      "cell_type": "code",
      "metadata": {
        "colab": {
          "base_uri": "https://localhost:8080/"
        },
        "id": "a_m_2lm9gyW8",
        "outputId": "43aa85ca-d6b7-4a8f-880f-244b8419b6ef"
      },
      "source": [
        "np.array([10,20,24,5,50,10,15])"
      ],
      "execution_count": 33,
      "outputs": [
        {
          "output_type": "execute_result",
          "data": {
            "text/plain": [
              "array([10, 20, 24,  5, 50, 10, 15])"
            ]
          },
          "metadata": {
            "tags": []
          },
          "execution_count": 33
        }
      ]
    },
    {
      "cell_type": "code",
      "metadata": {
        "colab": {
          "base_uri": "https://localhost:8080/"
        },
        "id": "ILMds7_Sg5uX",
        "outputId": "3cddbf76-8fee-4956-8e74-b4777ff99d1b"
      },
      "source": [
        "a = np.array([11,12,13,14,15,50,52,54,77,88,43,100])\n",
        "a[4]"
      ],
      "execution_count": 34,
      "outputs": [
        {
          "output_type": "execute_result",
          "data": {
            "text/plain": [
              "15"
            ]
          },
          "metadata": {
            "tags": []
          },
          "execution_count": 34
        }
      ]
    },
    {
      "cell_type": "code",
      "metadata": {
        "colab": {
          "base_uri": "https://localhost:8080/"
        },
        "id": "OB1xUaxqhGfM",
        "outputId": "9efb2b5d-0190-4a1a-8e20-bca0e12d1e00"
      },
      "source": [
        "a[3:]"
      ],
      "execution_count": 35,
      "outputs": [
        {
          "output_type": "execute_result",
          "data": {
            "text/plain": [
              "array([ 14,  15,  50,  52,  54,  77,  88,  43, 100])"
            ]
          },
          "metadata": {
            "tags": []
          },
          "execution_count": 35
        }
      ]
    },
    {
      "cell_type": "code",
      "metadata": {
        "colab": {
          "base_uri": "https://localhost:8080/"
        },
        "id": "1PohhvO9hK0A",
        "outputId": "291b6490-b3fb-4169-da85-4644dab6781d"
      },
      "source": [
        "a[3:7]"
      ],
      "execution_count": 36,
      "outputs": [
        {
          "output_type": "execute_result",
          "data": {
            "text/plain": [
              "array([14, 15, 50, 52])"
            ]
          },
          "metadata": {
            "tags": []
          },
          "execution_count": 36
        }
      ]
    },
    {
      "cell_type": "code",
      "metadata": {
        "colab": {
          "base_uri": "https://localhost:8080/"
        },
        "id": "Z_E4t6FQhXY7",
        "outputId": "a166f6cd-d8af-4b7f-8a53-4a9e708726d2"
      },
      "source": [
        "a[1::4]"
      ],
      "execution_count": 37,
      "outputs": [
        {
          "output_type": "execute_result",
          "data": {
            "text/plain": [
              "array([12, 50, 88])"
            ]
          },
          "metadata": {
            "tags": []
          },
          "execution_count": 37
        }
      ]
    },
    {
      "cell_type": "code",
      "metadata": {
        "colab": {
          "base_uri": "https://localhost:8080/"
        },
        "id": "i8GIFexvhZc3",
        "outputId": "6ca6b8cb-d201-4d78-838f-db4eb0ac8233"
      },
      "source": [
        "np.zeros(5)"
      ],
      "execution_count": 38,
      "outputs": [
        {
          "output_type": "execute_result",
          "data": {
            "text/plain": [
              "array([0., 0., 0., 0., 0.])"
            ]
          },
          "metadata": {
            "tags": []
          },
          "execution_count": 38
        }
      ]
    },
    {
      "cell_type": "code",
      "metadata": {
        "colab": {
          "base_uri": "https://localhost:8080/"
        },
        "id": "1BWld2Zthj05",
        "outputId": "c7912bed-2221-4a11-ecf2-44e27475c28b"
      },
      "source": [
        "np.ones(5)"
      ],
      "execution_count": 39,
      "outputs": [
        {
          "output_type": "execute_result",
          "data": {
            "text/plain": [
              "array([1., 1., 1., 1., 1.])"
            ]
          },
          "metadata": {
            "tags": []
          },
          "execution_count": 39
        }
      ]
    },
    {
      "cell_type": "code",
      "metadata": {
        "colab": {
          "base_uri": "https://localhost:8080/"
        },
        "id": "XAvrNFcThoqf",
        "outputId": "709f8a49-501b-4989-8f21-57e191d39600"
      },
      "source": [
        "ones=np.ones((3,5))\n",
        "ones"
      ],
      "execution_count": 40,
      "outputs": [
        {
          "output_type": "execute_result",
          "data": {
            "text/plain": [
              "array([[1., 1., 1., 1., 1.],\n",
              "       [1., 1., 1., 1., 1.],\n",
              "       [1., 1., 1., 1., 1.]])"
            ]
          },
          "metadata": {
            "tags": []
          },
          "execution_count": 40
        }
      ]
    },
    {
      "cell_type": "code",
      "metadata": {
        "colab": {
          "base_uri": "https://localhost:8080/"
        },
        "id": "cYJYPK4Zhsge",
        "outputId": "19e3d215-dd81-4cc0-bdbb-8b858e1b6723"
      },
      "source": [
        "type(ones)"
      ],
      "execution_count": 41,
      "outputs": [
        {
          "output_type": "execute_result",
          "data": {
            "text/plain": [
              "numpy.ndarray"
            ]
          },
          "metadata": {
            "tags": []
          },
          "execution_count": 41
        }
      ]
    },
    {
      "cell_type": "code",
      "metadata": {
        "colab": {
          "base_uri": "https://localhost:8080/"
        },
        "id": "Qv1ZK5wkhvI_",
        "outputId": "c7e831e8-2230-4d2f-daf3-33975df1dd87"
      },
      "source": [
        "type(ones[1])"
      ],
      "execution_count": 42,
      "outputs": [
        {
          "output_type": "execute_result",
          "data": {
            "text/plain": [
              "numpy.ndarray"
            ]
          },
          "metadata": {
            "tags": []
          },
          "execution_count": 42
        }
      ]
    },
    {
      "cell_type": "code",
      "metadata": {
        "colab": {
          "base_uri": "https://localhost:8080/"
        },
        "id": "4dgsoDCTh2EF",
        "outputId": "856f4e13-eef3-424f-9dfa-fe8db8332d95"
      },
      "source": [
        "type(ones[2][2])"
      ],
      "execution_count": 43,
      "outputs": [
        {
          "output_type": "execute_result",
          "data": {
            "text/plain": [
              "numpy.float64"
            ]
          },
          "metadata": {
            "tags": []
          },
          "execution_count": 43
        }
      ]
    },
    {
      "cell_type": "code",
      "metadata": {
        "colab": {
          "base_uri": "https://localhost:8080/"
        },
        "id": "CKMu_BU_iCkq",
        "outputId": "827eab9d-719c-4969-d407-040590f4ebcf"
      },
      "source": [
        "np.linspace(3, 10, 100)"
      ],
      "execution_count": 44,
      "outputs": [
        {
          "output_type": "execute_result",
          "data": {
            "text/plain": [
              "array([ 3.        ,  3.07070707,  3.14141414,  3.21212121,  3.28282828,\n",
              "        3.35353535,  3.42424242,  3.49494949,  3.56565657,  3.63636364,\n",
              "        3.70707071,  3.77777778,  3.84848485,  3.91919192,  3.98989899,\n",
              "        4.06060606,  4.13131313,  4.2020202 ,  4.27272727,  4.34343434,\n",
              "        4.41414141,  4.48484848,  4.55555556,  4.62626263,  4.6969697 ,\n",
              "        4.76767677,  4.83838384,  4.90909091,  4.97979798,  5.05050505,\n",
              "        5.12121212,  5.19191919,  5.26262626,  5.33333333,  5.4040404 ,\n",
              "        5.47474747,  5.54545455,  5.61616162,  5.68686869,  5.75757576,\n",
              "        5.82828283,  5.8989899 ,  5.96969697,  6.04040404,  6.11111111,\n",
              "        6.18181818,  6.25252525,  6.32323232,  6.39393939,  6.46464646,\n",
              "        6.53535354,  6.60606061,  6.67676768,  6.74747475,  6.81818182,\n",
              "        6.88888889,  6.95959596,  7.03030303,  7.1010101 ,  7.17171717,\n",
              "        7.24242424,  7.31313131,  7.38383838,  7.45454545,  7.52525253,\n",
              "        7.5959596 ,  7.66666667,  7.73737374,  7.80808081,  7.87878788,\n",
              "        7.94949495,  8.02020202,  8.09090909,  8.16161616,  8.23232323,\n",
              "        8.3030303 ,  8.37373737,  8.44444444,  8.51515152,  8.58585859,\n",
              "        8.65656566,  8.72727273,  8.7979798 ,  8.86868687,  8.93939394,\n",
              "        9.01010101,  9.08080808,  9.15151515,  9.22222222,  9.29292929,\n",
              "        9.36363636,  9.43434343,  9.50505051,  9.57575758,  9.64646465,\n",
              "        9.71717172,  9.78787879,  9.85858586,  9.92929293, 10.        ])"
            ]
          },
          "metadata": {
            "tags": []
          },
          "execution_count": 44
        }
      ]
    },
    {
      "cell_type": "code",
      "metadata": {
        "colab": {
          "base_uri": "https://localhost:8080/"
        },
        "id": "KWjY7AiDiJ7x",
        "outputId": "a1083019-b639-4690-c7ab-b37425225974"
      },
      "source": [
        "b = np.array([['x', 'y', 'z'], ['a', 'b', 'c']])\n",
        "print(b)\n",
        "print(type(b))\n",
        "print(f'Forma: {b.shape}')\n",
        "print(f'Dimensión: {b.ndim}')"
      ],
      "execution_count": 45,
      "outputs": [
        {
          "output_type": "stream",
          "text": [
            "[['x' 'y' 'z']\n",
            " ['a' 'b' 'c']]\n",
            "<class 'numpy.ndarray'>\n",
            "Forma: (2, 3)\n",
            "Dimensión: 2\n"
          ],
          "name": "stdout"
        }
      ]
    },
    {
      "cell_type": "code",
      "metadata": {
        "colab": {
          "base_uri": "https://localhost:8080/"
        },
        "id": "RTJRgQGficDA",
        "outputId": "b8172278-3976-44b9-ce79-a3e169602bb8"
      },
      "source": [
        "c = [12,4,5,6,3,1,56,67,3,23456,678,43,2,1,5,6]\n",
        "np.sort(c)"
      ],
      "execution_count": 46,
      "outputs": [
        {
          "output_type": "execute_result",
          "data": {
            "text/plain": [
              "array([    1,     1,     2,     3,     3,     4,     5,     5,     6,\n",
              "           6,    12,    43,    56,    67,   678, 23456])"
            ]
          },
          "metadata": {
            "tags": []
          },
          "execution_count": 46
        }
      ]
    },
    {
      "cell_type": "code",
      "metadata": {
        "colab": {
          "base_uri": "https://localhost:8080/"
        },
        "id": "sGgBMTvji8VF",
        "outputId": "44d2d91f-2008-4c0c-f0d6-bc91cece01ba"
      },
      "source": [
        "cabeceras = [('nombre', 'S10'), ('edad', int)]\n",
        "datos = [('Juan', 10), ('Maria', 70), ('Javier', 42), ('Lisney', 20)]\n",
        "usuarios = np.array(datos, dtype = cabeceras)\n",
        "\n",
        "np.sort(usuarios, order = 'edad')"
      ],
      "execution_count": 47,
      "outputs": [
        {
          "output_type": "execute_result",
          "data": {
            "text/plain": [
              "array([(b'Juan', 10), (b'Lisney', 20), (b'Javier', 42), (b'Maria', 70)],\n",
              "      dtype=[('nombre', 'S10'), ('edad', '<i8')])"
            ]
          },
          "metadata": {
            "tags": []
          },
          "execution_count": 47
        }
      ]
    },
    {
      "cell_type": "code",
      "metadata": {
        "colab": {
          "base_uri": "https://localhost:8080/"
        },
        "id": "1j5cliIbjY0H",
        "outputId": "472feea6-20be-4429-8b35-6b880404677b"
      },
      "source": [
        "np.arange(25)"
      ],
      "execution_count": 48,
      "outputs": [
        {
          "output_type": "execute_result",
          "data": {
            "text/plain": [
              "array([ 0,  1,  2,  3,  4,  5,  6,  7,  8,  9, 10, 11, 12, 13, 14, 15, 16,\n",
              "       17, 18, 19, 20, 21, 22, 23, 24])"
            ]
          },
          "metadata": {
            "tags": []
          },
          "execution_count": 48
        }
      ]
    },
    {
      "cell_type": "code",
      "metadata": {
        "colab": {
          "base_uri": "https://localhost:8080/"
        },
        "id": "Hb347IBsjkF_",
        "outputId": "a95547bf-b67f-4e5b-8f3a-06201e08b516"
      },
      "source": [
        "np.arange(3,10)"
      ],
      "execution_count": 49,
      "outputs": [
        {
          "output_type": "execute_result",
          "data": {
            "text/plain": [
              "array([3, 4, 5, 6, 7, 8, 9])"
            ]
          },
          "metadata": {
            "tags": []
          },
          "execution_count": 49
        }
      ]
    },
    {
      "cell_type": "code",
      "metadata": {
        "colab": {
          "base_uri": "https://localhost:8080/"
        },
        "id": "qDc-tm5Tjp3G",
        "outputId": "7498a5d9-e010-48c6-f371-b7490435374a"
      },
      "source": [
        "np.arange(5,50,5)"
      ],
      "execution_count": 50,
      "outputs": [
        {
          "output_type": "execute_result",
          "data": {
            "text/plain": [
              "array([ 5, 10, 15, 20, 25, 30, 35, 40, 45])"
            ]
          },
          "metadata": {
            "tags": []
          },
          "execution_count": 50
        }
      ]
    },
    {
      "cell_type": "code",
      "metadata": {
        "colab": {
          "base_uri": "https://localhost:8080/"
        },
        "id": "-iZ6c3dQjsr_",
        "outputId": "5fb90dd9-578f-4648-e2f3-46997ba24818"
      },
      "source": [
        "np.full((3,5), 10)"
      ],
      "execution_count": 51,
      "outputs": [
        {
          "output_type": "execute_result",
          "data": {
            "text/plain": [
              "array([[10, 10, 10, 10, 10],\n",
              "       [10, 10, 10, 10, 10],\n",
              "       [10, 10, 10, 10, 10]])"
            ]
          },
          "metadata": {
            "tags": []
          },
          "execution_count": 51
        }
      ]
    },
    {
      "cell_type": "code",
      "metadata": {
        "colab": {
          "base_uri": "https://localhost:8080/"
        },
        "id": "5nw2OIaqjyhV",
        "outputId": "f42f82a4-4c9b-4bb1-e5ea-9ffd7fa2a7df"
      },
      "source": [
        "np.diag([0,3,9,10])"
      ],
      "execution_count": 52,
      "outputs": [
        {
          "output_type": "execute_result",
          "data": {
            "text/plain": [
              "array([[ 0,  0,  0,  0],\n",
              "       [ 0,  3,  0,  0],\n",
              "       [ 0,  0,  9,  0],\n",
              "       [ 0,  0,  0, 10]])"
            ]
          },
          "metadata": {
            "tags": []
          },
          "execution_count": 52
        }
      ]
    },
    {
      "cell_type": "markdown",
      "metadata": {
        "id": "LVhKB3hn6I44"
      },
      "source": [
        "## Reto\n",
        "\n",
        "Realizar un arreglo de 3 dimensiones y ordernarlo por Nombre, Edad, País"
      ]
    },
    {
      "cell_type": "code",
      "metadata": {
        "colab": {
          "base_uri": "https://localhost:8080/"
        },
        "id": "wrjyxovo6Huj",
        "outputId": "0dfe44fc-ec6c-4cc8-a9be-de74b4f71440"
      },
      "source": [
        "cabeceras = [('nombre', 'S10'), ('edad', int), ('pais', 'S15')]\n",
        "datos = [('Juan', 10, 'Colombia'), ('Maria', 70, 'Chile'), ('Javier', 42,'Ecuador'), ('Lisney', 20, 'Peru')]\n",
        "usuarios = np.array(datos, dtype = cabeceras)\n",
        "\n",
        "np.sort(usuarios, order = 'pais')"
      ],
      "execution_count": 57,
      "outputs": [
        {
          "output_type": "execute_result",
          "data": {
            "text/plain": [
              "array([(b'Maria', 70, b'Chile'), (b'Juan', 10, b'Colombia'),\n",
              "       (b'Javier', 42, b'Ecuador'), (b'Lisney', 20, b'Peru')],\n",
              "      dtype=[('nombre', 'S10'), ('edad', '<i8'), ('pais', 'S15')])"
            ]
          },
          "metadata": {
            "tags": []
          },
          "execution_count": 57
        }
      ]
    },
    {
      "cell_type": "code",
      "metadata": {
        "id": "FT4619jcj5Wv"
      },
      "source": [
        ""
      ],
      "execution_count": 52,
      "outputs": []
    }
  ]
}