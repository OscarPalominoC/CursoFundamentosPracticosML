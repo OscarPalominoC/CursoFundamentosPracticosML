{
 "cells": [
  {
   "cell_type": "code",
   "execution_count": null,
   "metadata": {
    "id": "yDTggnqipAht"
   },
   "outputs": [],
   "source": [
    "import pandas as pd\n",
    "import matplotlib.pyplot as plt\n",
    "from sklearn.model_selection import train_test_split\n",
    "from sklearn.linear_model import LinearRegression "
   ]
  },
  {
   "cell_type": "code",
   "execution_count": null,
   "metadata": {
    "colab": {
     "base_uri": "https://localhost:8080/",
     "height": 206
    },
    "id": "yBEahuhdOWCC",
    "outputId": "776ed802-1971-4ae6-8fd2-a0e7a03b0589"
   },
   "outputs": [
    {
     "data": {
      "text/html": [
       "<div>\n",
       "<style scoped>\n",
       "    .dataframe tbody tr th:only-of-type {\n",
       "        vertical-align: middle;\n",
       "    }\n",
       "\n",
       "    .dataframe tbody tr th {\n",
       "        vertical-align: top;\n",
       "    }\n",
       "\n",
       "    .dataframe thead th {\n",
       "        text-align: right;\n",
       "    }\n",
       "</style>\n",
       "<table border=\"1\" class=\"dataframe\">\n",
       "  <thead>\n",
       "    <tr style=\"text-align: right;\">\n",
       "      <th></th>\n",
       "      <th>Aexperiencia</th>\n",
       "      <th>Salario</th>\n",
       "    </tr>\n",
       "  </thead>\n",
       "  <tbody>\n",
       "    <tr>\n",
       "      <th>0</th>\n",
       "      <td>10.0</td>\n",
       "      <td>42500</td>\n",
       "    </tr>\n",
       "    <tr>\n",
       "      <th>1</th>\n",
       "      <td>8.0</td>\n",
       "      <td>36302</td>\n",
       "    </tr>\n",
       "    <tr>\n",
       "      <th>2</th>\n",
       "      <td>5.4</td>\n",
       "      <td>35000</td>\n",
       "    </tr>\n",
       "    <tr>\n",
       "      <th>3</th>\n",
       "      <td>2.5</td>\n",
       "      <td>18103</td>\n",
       "    </tr>\n",
       "    <tr>\n",
       "      <th>4</th>\n",
       "      <td>1.0</td>\n",
       "      <td>15000</td>\n",
       "    </tr>\n",
       "  </tbody>\n",
       "</table>\n",
       "</div>"
      ],
      "text/plain": [
       "   Aexperiencia  Salario\n",
       "0          10.0    42500\n",
       "1           8.0    36302\n",
       "2           5.4    35000\n",
       "3           2.5    18103\n",
       "4           1.0    15000"
      ]
     },
     "execution_count": 4,
     "metadata": {
      "tags": []
     },
     "output_type": "execute_result"
    }
   ],
   "source": [
    "# Utilizamos el CSV salarios proveídos por Platzi\n",
    "dataset = pd.read_csv('salarios.csv')\n",
    "dataset.head()"
   ]
  },
  {
   "cell_type": "code",
   "execution_count": null,
   "metadata": {
    "colab": {
     "base_uri": "https://localhost:8080/"
    },
    "id": "1exL7NotOwsD",
    "outputId": "3fcae323-2fbc-4427-a9f0-dc523ae14ff7"
   },
   "outputs": [
    {
     "data": {
      "text/plain": [
       "(30, 2)"
      ]
     },
     "execution_count": 5,
     "metadata": {
      "tags": []
     },
     "output_type": "execute_result"
    }
   ],
   "source": [
    "dataset.shape"
   ]
  },
  {
   "cell_type": "code",
   "execution_count": null,
   "metadata": {
    "colab": {
     "base_uri": "https://localhost:8080/"
    },
    "id": "kHoLxK3SO5sx",
    "outputId": "ec053c64-b19e-46ad-c183-715ca88ef1cc"
   },
   "outputs": [
    {
     "name": "stdout",
     "output_type": "stream",
     "text": [
      "[[10. ]\n",
      " [ 8. ]\n",
      " [ 5.4]\n",
      " [ 2.5]\n",
      " [ 1. ]\n",
      " [ 8. ]\n",
      " [ 4. ]\n",
      " [ 6. ]\n",
      " [ 2. ]\n",
      " [10. ]\n",
      " [ 4. ]\n",
      " [ 7. ]\n",
      " [ 3. ]\n",
      " [ 5. ]\n",
      " [ 2. ]\n",
      " [ 5. ]\n",
      " [ 3. ]\n",
      " [ 2. ]\n",
      " [ 3. ]\n",
      " [ 2. ]\n",
      " [ 5. ]\n",
      " [ 3.4]\n",
      " [ 5.3]\n",
      " [ 2.1]\n",
      " [ 9.2]\n",
      " [10. ]\n",
      " [ 3.2]\n",
      " [10. ]\n",
      " [ 4. ]\n",
      " [ 1. ]]\n",
      "[42500 36302 35000 18103 15000 37000 26300 35201 18302 42000 27000 35201\n",
      " 19201 28000 17000 33402 19000 18200 19000 17301 28000 20000 27900 17500\n",
      " 40000 42500 18300 40000 25000 15000]\n"
     ]
    }
   ],
   "source": [
    "# Dividiendo el set de datos para entrenar y probar\n",
    "x = dataset.iloc[:, :-1].values\n",
    "y = dataset.iloc[:, 1].values\n",
    "print(x)\n",
    "print(y)"
   ]
  },
  {
   "cell_type": "code",
   "execution_count": null,
   "metadata": {
    "id": "hdM82JqDPNvy"
   },
   "outputs": [],
   "source": [
    "X_train, X_test, Y_train, Y_test = train_test_split(x, y, test_size=0.2, random_state=5)"
   ]
  },
  {
   "cell_type": "code",
   "execution_count": null,
   "metadata": {
    "colab": {
     "base_uri": "https://localhost:8080/"
    },
    "id": "yznKcsgkP3Xq",
    "outputId": "6652eca4-0035-42b9-c73d-6d3325cc9973"
   },
   "outputs": [
    {
     "data": {
      "text/plain": [
       "array([[ 5.4],\n",
       "       [ 5. ],\n",
       "       [ 3.2],\n",
       "       [ 3.4],\n",
       "       [ 4. ],\n",
       "       [10. ],\n",
       "       [ 2. ],\n",
       "       [ 8. ],\n",
       "       [ 8. ],\n",
       "       [10. ],\n",
       "       [ 3. ],\n",
       "       [ 5. ],\n",
       "       [ 2. ],\n",
       "       [ 9.2],\n",
       "       [ 6. ],\n",
       "       [ 1. ],\n",
       "       [ 2. ],\n",
       "       [10. ],\n",
       "       [ 3. ],\n",
       "       [ 5.3],\n",
       "       [ 4. ],\n",
       "       [ 5. ],\n",
       "       [ 2. ],\n",
       "       [ 2.5]])"
      ]
     },
     "execution_count": 8,
     "metadata": {
      "tags": []
     },
     "output_type": "execute_result"
    }
   ],
   "source": [
    "X_train"
   ]
  },
  {
   "cell_type": "code",
   "execution_count": null,
   "metadata": {
    "colab": {
     "base_uri": "https://localhost:8080/"
    },
    "id": "8ZshuCflP6PQ",
    "outputId": "ef34b27c-b344-4cc3-8320-13e7a956c431"
   },
   "outputs": [
    {
     "data": {
      "text/plain": [
       "LinearRegression(copy_X=True, fit_intercept=True, n_jobs=None, normalize=False)"
      ]
     },
     "execution_count": 9,
     "metadata": {
      "tags": []
     },
     "output_type": "execute_result"
    }
   ],
   "source": [
    "regressor = LinearRegression()\n",
    "regressor.fit(X_train, Y_train)"
   ]
  },
  {
   "cell_type": "code",
   "execution_count": null,
   "metadata": {
    "colab": {
     "base_uri": "https://localhost:8080/",
     "height": 295
    },
    "id": "NUKJAwouRkkj",
    "outputId": "769338b3-8b41-48ff-a7bd-a0d7bc94943c"
   },
   "outputs": [
    {
     "data": {
      "image/png": "[encoded data removed]",
      "text/plain": [
       "<Figure size 432x288 with 1 Axes>"
      ]
     },
     "metadata": {
      "needs_background": "light",
      "tags": []
     },
     "output_type": "display_data"
    }
   ],
   "source": [
    "viz_train = plt\n",
    "viz_train.scatter(X_train, Y_train, color='blue')\n",
    "viz_train.plot(X_train, regressor.predict(X_train), color='red')\n",
    "viz_train.title('Salary vs Experience')\n",
    "viz_train.xlabel('Experience')\n",
    "viz_train.ylabel('Salary')\n",
    "viz_train.show()"
   ]
  },
  {
   "cell_type": "code",
   "execution_count": null,
   "metadata": {
    "colab": {
     "base_uri": "https://localhost:8080/",
     "height": 295
    },
    "id": "erJRbGPcSTAf",
    "outputId": "37722cc3-475d-4035-8fb6-9eda6ab9fcd9"
   },
   "outputs": [
    {
     "data": {
      "image/png": "[encoded data removed]",
      "text/plain": [
       "<Figure size 432x288 with 1 Axes>"
      ]
     },
     "metadata": {
      "needs_background": "light",
      "tags": []
     },
     "output_type": "display_data"
    }
   ],
   "source": [
    "viz_train = plt\n",
    "viz_train.scatter(X_test, Y_test, color='blue')\n",
    "viz_train.plot(X_train, regressor.predict(X_train), color='red')\n",
    "viz_train.title('Salary vs Experience Test')\n",
    "viz_train.xlabel('Experience')\n",
    "viz_train.ylabel('Salary')\n",
    "viz_train.show()"
   ]
  },
  {
   "cell_type": "code",
   "execution_count": null,
   "metadata": {
    "colab": {
     "base_uri": "https://localhost:8080/"
    },
    "id": "U3jZzPBsSsUX",
    "outputId": "1c3567eb-4065-4d13-95e4-b82fdd3aaa1f"
   },
   "outputs": [
    {
     "data": {
      "text/plain": [
       "0.9747410412322155"
      ]
     },
     "execution_count": 12,
     "metadata": {
      "tags": []
     },
     "output_type": "execute_result"
    }
   ],
   "source": [
    "regressor.score(X_test, Y_test)\n",
    "# Este método nos devuelve un número entre 0 y 1, es la probabilidad de predecir correctamente los datos de prueba"
   ]
  },
  {
   "cell_type": "markdown",
   "metadata": {
    "id": "2Lww9aBkTwFW"
   },
   "source": [
    "## Reto\n",
    "Añade una columna más que incluya el país del programador, y averigua o predice qué tan bien se ajustan estos datos."
   ]
  },
  {
   "cell_type": "code",
   "execution_count": null,
   "metadata": {
    "id": "DImDcVw2UKUd"
   },
   "outputs": [],
   "source": [
    "import random\n",
    "countries = ['MX', 'COL', 'USA', 'CHI', 'AR']\n",
    "def pais():\n",
    "    index_countries = [0,1,2,3,4]\n",
    "    return random.choice(index_countries)"
   ]
  },
  {
   "cell_type": "code",
   "execution_count": null,
   "metadata": {
    "colab": {
     "base_uri": "https://localhost:8080/",
     "height": 470
    },
    "id": "Meyuf9VTS8sS",
    "outputId": "126dec81-f8ce-412c-9120-5b784d2b8c53"
   },
   "outputs": [
    {
     "name": "stderr",
     "output_type": "stream",
     "text": [
      "/usr/local/lib/python3.7/dist-packages/ipykernel_launcher.py:3: SettingWithCopyWarning: \n",
      "A value is trying to be set on a copy of a slice from a DataFrame\n",
      "\n",
      "See the caveats in the documentation: https://pandas.pydata.org/pandas-docs/stable/user_guide/indexing.html#returning-a-view-versus-a-copy\n",
      "  This is separate from the ipykernel package so we can avoid doing imports until\n"
     ]
    },
    {
     "data": {
      "text/html": [
       "<div>\n",
       "<style scoped>\n",
       "    .dataframe tbody tr th:only-of-type {\n",
       "        vertical-align: middle;\n",
       "    }\n",
       "\n",
       "    .dataframe tbody tr th {\n",
       "        vertical-align: top;\n",
       "    }\n",
       "\n",
       "    .dataframe thead th {\n",
       "        text-align: right;\n",
       "    }\n",
       "</style>\n",
       "<table border=\"1\" class=\"dataframe\">\n",
       "  <thead>\n",
       "    <tr style=\"text-align: right;\">\n",
       "      <th></th>\n",
       "      <th>Aexperiencia</th>\n",
       "      <th>Salario</th>\n",
       "      <th>pais</th>\n",
       "    </tr>\n",
       "  </thead>\n",
       "  <tbody>\n",
       "    <tr>\n",
       "      <th>0</th>\n",
       "      <td>10.0</td>\n",
       "      <td>42500</td>\n",
       "      <td>2</td>\n",
       "    </tr>\n",
       "    <tr>\n",
       "      <th>1</th>\n",
       "      <td>8.0</td>\n",
       "      <td>36302</td>\n",
       "      <td>0</td>\n",
       "    </tr>\n",
       "    <tr>\n",
       "      <th>2</th>\n",
       "      <td>5.4</td>\n",
       "      <td>35000</td>\n",
       "      <td>4</td>\n",
       "    </tr>\n",
       "    <tr>\n",
       "      <th>3</th>\n",
       "      <td>2.5</td>\n",
       "      <td>18103</td>\n",
       "      <td>3</td>\n",
       "    </tr>\n",
       "    <tr>\n",
       "      <th>4</th>\n",
       "      <td>1.0</td>\n",
       "      <td>15000</td>\n",
       "      <td>3</td>\n",
       "    </tr>\n",
       "    <tr>\n",
       "      <th>5</th>\n",
       "      <td>8.0</td>\n",
       "      <td>37000</td>\n",
       "      <td>4</td>\n",
       "    </tr>\n",
       "    <tr>\n",
       "      <th>6</th>\n",
       "      <td>4.0</td>\n",
       "      <td>26300</td>\n",
       "      <td>1</td>\n",
       "    </tr>\n",
       "    <tr>\n",
       "      <th>7</th>\n",
       "      <td>6.0</td>\n",
       "      <td>35201</td>\n",
       "      <td>1</td>\n",
       "    </tr>\n",
       "    <tr>\n",
       "      <th>8</th>\n",
       "      <td>2.0</td>\n",
       "      <td>18302</td>\n",
       "      <td>1</td>\n",
       "    </tr>\n",
       "    <tr>\n",
       "      <th>9</th>\n",
       "      <td>10.0</td>\n",
       "      <td>42000</td>\n",
       "      <td>3</td>\n",
       "    </tr>\n",
       "  </tbody>\n",
       "</table>\n",
       "</div>"
      ],
      "text/plain": [
       "   Aexperiencia  Salario pais\n",
       "0          10.0    42500    2\n",
       "1           8.0    36302    0\n",
       "2           5.4    35000    4\n",
       "3           2.5    18103    3\n",
       "4           1.0    15000    3\n",
       "5           8.0    37000    4\n",
       "6           4.0    26300    1\n",
       "7           6.0    35201    1\n",
       "8           2.0    18302    1\n",
       "9          10.0    42000    3"
      ]
     },
     "execution_count": 14,
     "metadata": {
      "tags": []
     },
     "output_type": "execute_result"
    }
   ],
   "source": [
    "dataset['pais'] = ''\n",
    "for i in range(len(dataset)):\n",
    "    dataset['pais'][i] = pais()\n",
    "dataset.head(10)"
   ]
  },
  {
   "cell_type": "code",
   "execution_count": null,
   "metadata": {
    "colab": {
     "base_uri": "https://localhost:8080/",
     "height": 206
    },
    "id": "wd91wzJXVbzL",
    "outputId": "390f45b2-ba67-4687-97cf-a1103858d2b2"
   },
   "outputs": [
    {
     "data": {
      "text/html": [
       "<div>\n",
       "<style scoped>\n",
       "    .dataframe tbody tr th:only-of-type {\n",
       "        vertical-align: middle;\n",
       "    }\n",
       "\n",
       "    .dataframe tbody tr th {\n",
       "        vertical-align: top;\n",
       "    }\n",
       "\n",
       "    .dataframe thead th {\n",
       "        text-align: right;\n",
       "    }\n",
       "</style>\n",
       "<table border=\"1\" class=\"dataframe\">\n",
       "  <thead>\n",
       "    <tr style=\"text-align: right;\">\n",
       "      <th></th>\n",
       "      <th>Aexperiencia</th>\n",
       "      <th>pais</th>\n",
       "      <th>Salario</th>\n",
       "    </tr>\n",
       "  </thead>\n",
       "  <tbody>\n",
       "    <tr>\n",
       "      <th>0</th>\n",
       "      <td>10.0</td>\n",
       "      <td>2</td>\n",
       "      <td>42500</td>\n",
       "    </tr>\n",
       "    <tr>\n",
       "      <th>1</th>\n",
       "      <td>8.0</td>\n",
       "      <td>0</td>\n",
       "      <td>36302</td>\n",
       "    </tr>\n",
       "    <tr>\n",
       "      <th>2</th>\n",
       "      <td>5.4</td>\n",
       "      <td>4</td>\n",
       "      <td>35000</td>\n",
       "    </tr>\n",
       "    <tr>\n",
       "      <th>3</th>\n",
       "      <td>2.5</td>\n",
       "      <td>3</td>\n",
       "      <td>18103</td>\n",
       "    </tr>\n",
       "    <tr>\n",
       "      <th>4</th>\n",
       "      <td>1.0</td>\n",
       "      <td>3</td>\n",
       "      <td>15000</td>\n",
       "    </tr>\n",
       "  </tbody>\n",
       "</table>\n",
       "</div>"
      ],
      "text/plain": [
       "   Aexperiencia pais  Salario\n",
       "0          10.0    2    42500\n",
       "1           8.0    0    36302\n",
       "2           5.4    4    35000\n",
       "3           2.5    3    18103\n",
       "4           1.0    3    15000"
      ]
     },
     "execution_count": 15,
     "metadata": {
      "tags": []
     },
     "output_type": "execute_result"
    }
   ],
   "source": [
    "dataset = dataset[['Aexperiencia', 'pais', 'Salario']]\n",
    "dataset.head(5)"
   ]
  },
  {
   "cell_type": "code",
   "execution_count": null,
   "metadata": {
    "id": "QrVbTiHtVmgt"
   },
   "outputs": [],
   "source": [
    "# Dividiendo el set de datos para entrenar y probar\n",
    "x = dataset.iloc[:, :-1].values\n",
    "y = dataset.iloc[:, -1].values"
   ]
  },
  {
   "cell_type": "code",
   "execution_count": null,
   "metadata": {
    "id": "X67VqmCmWBFv"
   },
   "outputs": [],
   "source": [
    "X_train, X_test, Y_train, Y_test = train_test_split(x, y, test_size=0.2, random_state=5)"
   ]
  },
  {
   "cell_type": "code",
   "execution_count": null,
   "metadata": {
    "colab": {
     "base_uri": "https://localhost:8080/"
    },
    "id": "r2PhBwyF0NBj",
    "outputId": "36bc1e94-137f-4671-bec1-71a630ca1dac"
   },
   "outputs": [
    {
     "data": {
      "text/plain": [
       "array([[5.4, 4],\n",
       "       [5.0, 0],\n",
       "       [3.2, 0],\n",
       "       [3.4, 0],\n",
       "       [4.0, 1],\n",
       "       [10.0, 2],\n",
       "       [2.0, 3],\n",
       "       [8.0, 4],\n",
       "       [8.0, 0],\n",
       "       [10.0, 2],\n",
       "       [3.0, 1],\n",
       "       [5.0, 1],\n",
       "       [2.0, 0],\n",
       "       [9.2, 4],\n",
       "       [6.0, 1],\n",
       "       [1.0, 3],\n",
       "       [2.0, 1],\n",
       "       [10.0, 3],\n",
       "       [3.0, 0],\n",
       "       [5.3, 1],\n",
       "       [4.0, 1],\n",
       "       [5.0, 4],\n",
       "       [2.0, 1],\n",
       "       [2.5, 3]], dtype=object)"
      ]
     },
     "execution_count": 18,
     "metadata": {
      "tags": []
     },
     "output_type": "execute_result"
    }
   ],
   "source": [
    "X_train"
   ]
  },
  {
   "cell_type": "code",
   "execution_count": null,
   "metadata": {
    "colab": {
     "base_uri": "https://localhost:8080/"
    },
    "id": "rrttM-SvWGmE",
    "outputId": "872e50f1-c6cd-4ffb-e8d8-e59f124369e8"
   },
   "outputs": [
    {
     "data": {
      "text/plain": [
       "LinearRegression(copy_X=True, fit_intercept=True, n_jobs=None, normalize=False)"
      ]
     },
     "execution_count": 19,
     "metadata": {
      "tags": []
     },
     "output_type": "execute_result"
    }
   ],
   "source": [
    "regressor = LinearRegression()\n",
    "regressor.fit(X_train, Y_train)"
   ]
  },
  {
   "cell_type": "code",
   "execution_count": null,
   "metadata": {
    "colab": {
     "base_uri": "https://localhost:8080/"
    },
    "id": "JN5XpGJOH8jp",
    "outputId": "5e687ac6-1dc0-4c7e-f4f3-26864ed915ec"
   },
   "outputs": [
    {
     "data": {
      "text/plain": [
       "array([35000, 28000, 18300, 20000, 25000, 42500, 18200, 37000, 36302,\n",
       "       40000, 19201, 28000, 17301, 40000, 35201, 15000, 18302, 42000,\n",
       "       19000, 27900, 26300, 33402, 17000, 18103])"
      ]
     },
     "execution_count": 20,
     "metadata": {
      "tags": []
     },
     "output_type": "execute_result"
    }
   ],
   "source": [
    "Y_train"
   ]
  },
  {
   "cell_type": "code",
   "execution_count": null,
   "metadata": {
    "colab": {
     "base_uri": "https://localhost:8080/",
     "height": 265
    },
    "id": "8IYSTHOr0ELG",
    "outputId": "94fa52d6-132f-42c4-9519-887b24a2398b"
   },
   "outputs": [
    {
     "data": {
      "text/plain": [
       "Text(0.5, 0, 'Salary')"
      ]
     },
     "execution_count": 21,
     "metadata": {
      "tags": []
     },
     "output_type": "execute_result"
    },
    {
     "data": {
      "image/png": "[encoded data removed]",
      "text/plain": [
       "<Figure size 432x288 with 1 Axes>"
      ]
     },
     "metadata": {
      "needs_background": "light",
      "tags": []
     },
     "output_type": "display_data"
    }
   ],
   "source": [
    "fig = plt.figure()\n",
    "ax = fig.add_subplot(111, projection='3d')\n",
    "\n",
    "X = [x[0] for x in X_train]\n",
    "Y = [y[1] for y in X_train]\n",
    "\n",
    "ax.scatter(X,Y,Y_train, c='r', marker='o')\n",
    "ax.set_xlabel('Experience')\n",
    "ax.set_ylabel('Country index')\n",
    "ax.set_zlabel('Salary')"
   ]
  },
  {
   "cell_type": "code",
   "execution_count": null,
   "metadata": {
    "colab": {
     "base_uri": "https://localhost:8080/"
    },
    "id": "u2EeOwB5cksG",
    "outputId": "e1745cbc-94cf-4e6d-c5c6-55b76c609244"
   },
   "outputs": [
    {
     "data": {
      "text/plain": [
       "0.9372541585022335"
      ]
     },
     "execution_count": 22,
     "metadata": {
      "tags": []
     },
     "output_type": "execute_result"
    }
   ],
   "source": [
    "regressor.score(X_test, Y_test)"
   ]
  }
 ],
 "metadata": {
  "colab": {
   "name": "3_regresion_lineal_simple",
   "provenance": []
  },
  "kernelspec": {
   "display_name": "Python 3",
   "language": "python",
   "name": "python3"
  },
  "language_info": {
   "codemirror_mode": {
    "name": "ipython",
    "version": 3
   },
   "file_extension": ".py",
   "mimetype": "text/x-python",
   "name": "python",
   "nbconvert_exporter": "python",
   "pygments_lexer": "ipython3",
   "version": "3.7.6"
  }
 },
 "nbformat": 4,
 "nbformat_minor": 1
}
